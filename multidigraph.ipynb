{
 "cells": [
  {
   "cell_type": "code",
   "execution_count": 1,
   "metadata": {},
   "outputs": [],
   "source": [
    "import time\n",
    "from queue import PriorityQueue\n",
    "import heapq\n",
    "import osmnx as ox\n",
    "import networkx as nx\n",
    "\n",
    "weight = \"length\""
   ]
  },
  {
   "cell_type": "code",
   "execution_count": 2,
   "metadata": {},
   "outputs": [],
   "source": [
    "G = ox.graph_from_place(\"Makati, Poblacion\", network_type=\"drive\")\n",
    "nodes, edges = ox.graph_to_gdfs(G)\n",
    "\n",
    "# NCR to test the Dijkstra\n",
    "metro_G = ox.io.load_graphml(filepath=\"data/metro_drive.graphml\")\n",
    "metro_nodes, metro_edges = ox.graph_to_gdfs(metro_G)"
   ]
  },
  {
   "cell_type": "code",
   "execution_count": 3,
   "metadata": {},
   "outputs": [],
   "source": [
    "test_orig = ox.nearest_nodes(metro_G, 120.99169, 14.51015)\n",
    "test_dest = ox.nearest_nodes(metro_G, 121.0643, 14.6548)"
   ]
  },
  {
   "cell_type": "code",
   "execution_count": 4,
   "metadata": {},
   "outputs": [
    {
     "name": "stdout",
     "output_type": "stream",
     "text": [
      "Number of nodes: 59055 and Number of edges: 148676\n"
     ]
    }
   ],
   "source": [
    "print(f\"Number of nodes: {len(metro_G.nodes)} and Number of edges: {len(metro_G.edges)}\")"
   ]
  },
  {
   "cell_type": "code",
   "execution_count": 5,
   "metadata": {},
   "outputs": [],
   "source": [
    "# Sample nodes\n",
    "source = 32546634\n",
    "target = 3650224015 # 248035797 "
   ]
  },
  {
   "cell_type": "markdown",
   "metadata": {},
   "source": [
    "## Dijkstra test implementation"
   ]
  },
  {
   "cell_type": "code",
   "execution_count": 22,
   "metadata": {},
   "outputs": [],
   "source": [
    "# Make path: list of node id's\n",
    "def make_path(parent, goal):\n",
    "    if goal not in parent:\n",
    "        return None\n",
    "    v = goal\n",
    "    path = []\n",
    "    while v is not None: # root has null parent\n",
    "        path.append(v)\n",
    "        v = parent[v]\n",
    "    return path[::-1]"
   ]
  },
  {
   "cell_type": "code",
   "execution_count": 31,
   "metadata": {},
   "outputs": [],
   "source": [
    "def make_coordinate_path(route):\n",
    "    \"\"\"Given a list of OSM node ids for the shortest path, return a list of the lat/long of each node\"\"\"\n",
    "    path = []\n",
    "    filtered_nodes = metro_nodes[metro_nodes.index.isin(route)]\n",
    "    coordinates = filtered_nodes[['y', 'x']]\n",
    "    for node in route:\n",
    "        path.append(coordinates.loc[node].values.tolist())\n",
    "\n",
    "    return path"
   ]
  },
  {
   "cell_type": "code",
   "execution_count": 7,
   "metadata": {},
   "outputs": [],
   "source": [
    "# Taken from https://gist.github.com/qpwo/cda55deee291de31b50d408c1a7c8515 (just reworked the search on neighbors)\n",
    "def dijkstra_queue(G, start, goal):\n",
    "    \"\"\" Uniform-cost search / dijkstra \"\"\"\n",
    "    visited = set()\n",
    "    cost = {start: 0}\n",
    "    parent = {start: None}\n",
    "    todo = PriorityQueue()\n",
    "  \n",
    "    todo.put((0, start))\n",
    "    while todo:\n",
    "        while not todo.empty():\n",
    "            _, vertex = todo.get() # finds lowest cost vertex\n",
    "            # loop until we get a fresh vertex\n",
    "            if vertex not in visited: break\n",
    "        else: # if todo ran out\n",
    "            break # quit main loop\n",
    "        visited.add(vertex)\n",
    "        if vertex == goal:\n",
    "            break\n",
    "        \n",
    "        # Explored the MultiDiGraph documentation from NetworkX, and managed to get the neighbor and edge lenghts using out_edges\n",
    "        for _, neighbor, length in G.out_edges(vertex, data=\"length\"):\n",
    "            if neighbor in visited: continue\n",
    "            old_cost = cost.get(neighbor, float('inf')) # default to infinity\n",
    "            new_cost = cost[vertex] + length\n",
    "            if new_cost < old_cost:\n",
    "                todo.put((new_cost, neighbor))\n",
    "                cost[neighbor] = new_cost\n",
    "                parent[neighbor] = vertex\n",
    "\n",
    "    return parent"
   ]
  },
  {
   "cell_type": "code",
   "execution_count": 8,
   "metadata": {},
   "outputs": [],
   "source": [
    "# Instead of queue module, use heapq (see if any changes)\n",
    "def dijkstra_heapq(G, start, goal):\n",
    "    \"\"\" Uniform-cost search / dijkstra \"\"\"\n",
    "    visited = set()\n",
    "    cost = {start: 0}\n",
    "    parent = {start: None}\n",
    "    todo = []\n",
    "  \n",
    "    heapq.heappush(todo, (0, start))\n",
    "    while todo:\n",
    "        while todo:\n",
    "            _, vertex = heapq.heappop(todo) # finds lowest cost vertex\n",
    "            # loop until we get a fresh vertex\n",
    "            if vertex not in visited: break\n",
    "        else: # if todo ran out\n",
    "            break # quit main loop\n",
    "        visited.add(vertex)\n",
    "        if vertex == goal:\n",
    "            break\n",
    "        \n",
    "        # Explored the MultiDiGraph documentation from NetworkX, and managed to get the neighbor and edge lenghts using out_edges\n",
    "        for _, neighbor, length in G.out_edges(vertex, data=\"length\"):\n",
    "            if neighbor in visited: continue\n",
    "            old_cost = cost.get(neighbor, float('inf')) # default to infinity\n",
    "            new_cost = cost[vertex] + length\n",
    "            if new_cost < old_cost:\n",
    "                heapq.heappush(todo, (new_cost, neighbor))\n",
    "                cost[neighbor] = new_cost\n",
    "                parent[neighbor] = vertex\n",
    "\n",
    "    return parent"
   ]
  },
  {
   "cell_type": "code",
   "execution_count": 9,
   "metadata": {},
   "outputs": [],
   "source": [
    "# Simplified the while checks for already visited nodes into just ifs\n",
    "def dijkstra_heapq_1(G, start, goal):\n",
    "    \"\"\" Uniform-cost search / dijkstra \"\"\"\n",
    "    visited = set()\n",
    "    cost = {start: 0}\n",
    "    parent = {start: None}\n",
    "    todo = [(0, start)]\n",
    "  \n",
    "    while todo:\n",
    "        _, vertex = heapq.heappop(todo) # finds lowest cost vertex\n",
    "\n",
    "        # Pop a different node from the queue when it has already been visited\n",
    "        if vertex in visited:\n",
    "            continue\n",
    "        \n",
    "        # End Dijkstra when goal node is visited \n",
    "        if vertex == goal:\n",
    "            break\n",
    "\n",
    "        visited.add(vertex)\n",
    "\n",
    "        \n",
    "        # Explored the MultiDiGraph documentation from NetworkX, and managed to get the neighbor and edge lenghts using out_edges\n",
    "        for _, neighbor, length in G.out_edges(vertex, data=\"length\"):\n",
    "            if neighbor in visited:\n",
    "                continue\n",
    "\n",
    "            old_cost = cost.get(neighbor, float('inf')) # default to infinity\n",
    "            new_cost = cost[vertex] + length\n",
    "\n",
    "            if new_cost < old_cost:\n",
    "                heapq.heappush(todo, (new_cost, neighbor))\n",
    "                cost[neighbor] = new_cost\n",
    "                parent[neighbor] = vertex\n",
    "\n",
    "    return parent"
   ]
  },
  {
   "cell_type": "markdown",
   "metadata": {},
   "source": [
    "## Dijkstra heapq, edge relaxation ignore checking of costs\n",
    "\n",
    "Suppose that $v$ is a node we have just visited. The next step involves performing edge relaxation on each of its neighboring vertices. That is, given the tentative cost of $v$ and the edge length to its neighbor, we check if the sum of these two is better (i.e., less) than the tentative cost of the neighbor vertex.\n",
    "\n",
    "**Not checking edge relaxation improvements works**\n",
    "\n",
    "The usual way to do this is having an `old_cost` which is the tentative cost of the neighbor vertex and a `new_cost` which is the tentative cost of the visited/parent vertex plus the edge length to the neighbor: If `new_cost` is less than `old_cost`, then we *update* the neighbor vertex's tentative cost\n",
    "\n",
    "But how did we avoid this checking condition in our code? Why does just adding the new tentative cost into the queue work without checking if it's an improvement? See that even if we have multiple costs for the same neighbor vertex in the queue, when it is time to pop that vertex, we will pop the minimum tentative cost from the queue out of all those multiple costs. And once we have popped that vertex, the other tentative costs for that vertex still in the queue will be disregarded by our `if` checks earlier\n",
    "\n",
    "**Not initializing nodes with infinity works**\n",
    "\n",
    "We did not initialize the tentative costs of the vertices with infinity since the first update we will perform for the tentative cost will invariably be added to the queue (in fact no matter what the tentative cost is we will always add it the to the queue, as per the previous paragraph)\n",
    "\n",
    "**Adding the checks for the costs seems to be slower**\n",
    "\n",
    "Just don't add the check\n",
    "\n"
   ]
  },
  {
   "cell_type": "code",
   "execution_count": 10,
   "metadata": {},
   "outputs": [],
   "source": [
    "# Dijkstra heapq, no checks if new tentative cost is better than old tentative cost; just add all tentative costs to the queue\n",
    "def dijkstra_heapq_no_check(G, source, target):\n",
    "    visited = set()\n",
    "    queue = [(0, source, None)]  # (tentative cost, vertex, parent)\n",
    "    parents = {}\n",
    "    \n",
    "    while queue:\n",
    "        vertex_cost, vertex, parent = heapq.heappop(queue)  # Get lowest cost vertex from the queue\n",
    "\n",
    "        if vertex in visited:\n",
    "            continue\n",
    "\n",
    "        visited.add(vertex) # Consider vertex as visited\n",
    "        parents[vertex] = parent\n",
    "        \n",
    "        # End algorithm when vertex visited is the goal node\n",
    "        if vertex == target:\n",
    "            break\n",
    "\n",
    "        # Relax neighbor vertices of vertex\n",
    "        for _, neighbor, edge_length in G.out_edges(vertex, data=\"length\"):\n",
    "            if neighbor in visited:\n",
    "                continue\n",
    "\n",
    "            # No need to check if new cost is an improvement, just add it to the queue; other costs will be disregarded later on\n",
    "            neighbor_cost = vertex_cost + edge_length \n",
    "            heapq.heappush(queue, (neighbor_cost, neighbor, vertex))\n",
    "\n",
    "    return parents\n"
   ]
  },
  {
   "cell_type": "markdown",
   "metadata": {},
   "source": [
    "## Compare performance of Dijkstra implementation from osmNX/NetworkX\n",
    "\n",
    "Noticed that the `nx.dijkstra_path` from NetworkX gives out a different path compared to osmNX (which uses a different Dijkstra function in the NetworkX library). But the `ox.shortest_path` route matches our implementation's route: all is good"
   ]
  },
  {
   "cell_type": "code",
   "execution_count": 23,
   "metadata": {},
   "outputs": [
    {
     "name": "stdout",
     "output_type": "stream",
     "text": [
      "The time it took to run Dijkstra 0.3785803999999189\n"
     ]
    }
   ],
   "source": [
    "# Run the Dijkstra with queue\n",
    "start = time.perf_counter() \n",
    "parent_q = dijkstra_queue(metro_G, test_orig, test_dest)\n",
    "test_route_q = make_path(parent_q, test_dest)\n",
    "end = time.perf_counter() \n",
    "\n",
    "print(f\"The time it took to run Dijkstra {end - start}\")"
   ]
  },
  {
   "cell_type": "code",
   "execution_count": 24,
   "metadata": {},
   "outputs": [
    {
     "name": "stdout",
     "output_type": "stream",
     "text": [
      "The time it took to run Dijkstra 0.4400153999995382\n"
     ]
    }
   ],
   "source": [
    "# Run the Dijkstra from OSMnx\n",
    "start = time.perf_counter() \n",
    "parent_o = ox.shortest_path(metro_G, test_orig, test_dest)\n",
    "end = time.perf_counter() \n",
    "\n",
    "print(f\"The time it took to run Dijkstra {end - start}\")"
   ]
  },
  {
   "cell_type": "code",
   "execution_count": 36,
   "metadata": {},
   "outputs": [
    {
     "name": "stdout",
     "output_type": "stream",
     "text": [
      "The time it took to run Dijkstra 0.2340009999988979\n"
     ]
    }
   ],
   "source": [
    "# Run the Dijkstra from NetworkX bidirectional_search\n",
    "start = time.perf_counter() \n",
    "parent_o = nx.bidirectional_dijkstra(metro_G, test_orig, test_dest, weight=\"length\")\n",
    "end = time.perf_counter() \n",
    "\n",
    "print(f\"The time it took to run Dijkstra {end - start}\")"
   ]
  },
  {
   "cell_type": "code",
   "execution_count": 34,
   "metadata": {},
   "outputs": [
    {
     "name": "stdout",
     "output_type": "stream",
     "text": [
      "The time it took to run Dijkstra 0.25858139999945706\n"
     ]
    }
   ],
   "source": [
    "# Run the Dijkstra with heapq\n",
    "start = time.perf_counter() \n",
    "parent_h = dijkstra_heapq(metro_G, test_orig, test_dest)\n",
    "test_route_h = make_path(parent_h, test_dest)\n",
    "end = time.perf_counter() \n",
    "\n",
    "print(f\"The time it took to run Dijkstra {end - start}\")"
   ]
  },
  {
   "cell_type": "code",
   "execution_count": 39,
   "metadata": {},
   "outputs": [
    {
     "name": "stdout",
     "output_type": "stream",
     "text": [
      "The time it took to run Dijkstra 0.2693698000002769\n"
     ]
    }
   ],
   "source": [
    "# Run the Dijkstra with heapq no checks\n",
    "start = time.perf_counter() \n",
    "parent_h_no_checks = dijkstra_heapq_no_check(metro_G, test_orig, test_dest)\n",
    "test_route_h_no_check = make_path(parent_h_no_checks, test_dest)\n",
    "coordinate_route = make_coordinate_path(test_route_h_no_check)\n",
    "end = time.perf_counter() \n",
    "\n",
    "print(f\"The time it took to run Dijkstra {end - start}\")"
   ]
  },
  {
   "cell_type": "code",
   "execution_count": 28,
   "metadata": {},
   "outputs": [],
   "source": [
    "# Test Dijkstra produced same route\n",
    "if test_route_h_no_check == parent_o:\n",
    "    print(test_route_h_no_check)"
   ]
  },
  {
   "cell_type": "markdown",
   "metadata": {},
   "source": [
    "## Plot the route"
   ]
  },
  {
   "cell_type": "code",
   "execution_count": 30,
   "metadata": {},
   "outputs": [
    {
     "ename": "NameError",
     "evalue": "name 'nx_path' is not defined",
     "output_type": "error",
     "traceback": [
      "\u001b[1;31m---------------------------------------------------------------------------\u001b[0m",
      "\u001b[1;31mNameError\u001b[0m                                 Traceback (most recent call last)",
      "Cell \u001b[1;32mIn[30], line 1\u001b[0m\n\u001b[1;32m----> 1\u001b[0m nx_route \u001b[38;5;241m=\u001b[39m ox\u001b[38;5;241m.\u001b[39mrouting\u001b[38;5;241m.\u001b[39mroute_to_gdf(metro_G, \u001b[43mnx_path\u001b[49m, weight\u001b[38;5;241m=\u001b[39mweight)\n\u001b[0;32m      2\u001b[0m m \u001b[38;5;241m=\u001b[39m nx_route\u001b[38;5;241m.\u001b[39mexplore(color\u001b[38;5;241m=\u001b[39m\u001b[38;5;124m\"\u001b[39m\u001b[38;5;124mskyblue\u001b[39m\u001b[38;5;124m\"\u001b[39m, tiles\u001b[38;5;241m=\u001b[39m\u001b[38;5;124m\"\u001b[39m\u001b[38;5;124mcartodbdarkmatter\u001b[39m\u001b[38;5;124m\"\u001b[39m, style_kwds\u001b[38;5;241m=\u001b[39m{\u001b[38;5;124m\"\u001b[39m\u001b[38;5;124mweight\u001b[39m\u001b[38;5;124m\"\u001b[39m: \u001b[38;5;241m5\u001b[39m, \u001b[38;5;124m\"\u001b[39m\u001b[38;5;124mopacity\u001b[39m\u001b[38;5;124m\"\u001b[39m: \u001b[38;5;241m0.5\u001b[39m})\n\u001b[0;32m      3\u001b[0m m\n",
      "\u001b[1;31mNameError\u001b[0m: name 'nx_path' is not defined"
     ]
    }
   ],
   "source": [
    "nx_route = ox.routing.route_to_gdf(metro_G, nx_path, weight=weight)\n",
    "m = nx_route.explore(color=\"skyblue\", tiles=\"cartodbdarkmatter\", style_kwds={\"weight\": 5, \"opacity\": 0.5})\n",
    "m"
   ]
  },
  {
   "cell_type": "code",
   "execution_count": null,
   "metadata": {},
   "outputs": [
    {
     "ename": "NameError",
     "evalue": "name 'test_route_h_no_check' is not defined",
     "output_type": "error",
     "traceback": [
      "\u001b[1;31m---------------------------------------------------------------------------\u001b[0m",
      "\u001b[1;31mNameError\u001b[0m                                 Traceback (most recent call last)",
      "Cell \u001b[1;32mIn[26], line 5\u001b[0m\n\u001b[0;32m      2\u001b[0m route \u001b[38;5;241m=\u001b[39m ox\u001b[38;5;241m.\u001b[39mshortest_path(metro_G, test_orig, test_dest) \u001b[38;5;66;03m# To compare with osmnx shortest path\u001b[39;00m\n\u001b[0;32m      3\u001b[0m route_edges \u001b[38;5;241m=\u001b[39m ox\u001b[38;5;241m.\u001b[39mrouting\u001b[38;5;241m.\u001b[39mroute_to_gdf(metro_G, route, weight\u001b[38;5;241m=\u001b[39mweight)\n\u001b[1;32m----> 5\u001b[0m test_route_edges \u001b[38;5;241m=\u001b[39m ox\u001b[38;5;241m.\u001b[39mrouting\u001b[38;5;241m.\u001b[39mroute_to_gdf(metro_G, \u001b[43mtest_route_h_no_check\u001b[49m, weight\u001b[38;5;241m=\u001b[39mweight) \u001b[38;5;66;03m# test_route holds our Dijktstra implementation's\u001b[39;00m\n\u001b[0;32m      7\u001b[0m m \u001b[38;5;241m=\u001b[39m test_route_edges\u001b[38;5;241m.\u001b[39mexplore(color\u001b[38;5;241m=\u001b[39m\u001b[38;5;124m\"\u001b[39m\u001b[38;5;124mskyblue\u001b[39m\u001b[38;5;124m\"\u001b[39m, tiles\u001b[38;5;241m=\u001b[39m\u001b[38;5;124m\"\u001b[39m\u001b[38;5;124mcartodbdarkmatter\u001b[39m\u001b[38;5;124m\"\u001b[39m, style_kwds\u001b[38;5;241m=\u001b[39m{\u001b[38;5;124m\"\u001b[39m\u001b[38;5;124mweight\u001b[39m\u001b[38;5;124m\"\u001b[39m: \u001b[38;5;241m5\u001b[39m, \u001b[38;5;124m\"\u001b[39m\u001b[38;5;124mopacity\u001b[39m\u001b[38;5;124m\"\u001b[39m: \u001b[38;5;241m0.5\u001b[39m})\n\u001b[0;32m      8\u001b[0m route_edges\u001b[38;5;241m.\u001b[39mexplore(m\u001b[38;5;241m=\u001b[39mm, color \u001b[38;5;241m=\u001b[39m\u001b[38;5;124m\"\u001b[39m\u001b[38;5;124mpink\u001b[39m\u001b[38;5;124m\"\u001b[39m)\n",
      "\u001b[1;31mNameError\u001b[0m: name 'test_route_h_no_check' is not defined"
     ]
    }
   ],
   "source": [
    "# Plot the nodes and edges, and the shortest path route from our sample points\n",
    "route = ox.shortest_path(metro_G, test_orig, test_dest) # To compare with osmnx shortest path\n",
    "route_edges = ox.routing.route_to_gdf(metro_G, route, weight=weight)\n",
    "\n",
    "test_route_edges = ox.routing.route_to_gdf(metro_G, test_route_h_no_check, weight=weight) # test_route holds our Dijktstra implementation's\n",
    "\n",
    "m = test_route_edges.explore(color=\"skyblue\", tiles=\"cartodbdarkmatter\", style_kwds={\"weight\": 5, \"opacity\": 0.5})\n",
    "route_edges.explore(m=m, color =\"pink\")"
   ]
  }
 ],
 "metadata": {
  "kernelspec": {
   "display_name": "Python 3",
   "language": "python",
   "name": "python3"
  },
  "language_info": {
   "codemirror_mode": {
    "name": "ipython",
    "version": 3
   },
   "file_extension": ".py",
   "mimetype": "text/x-python",
   "name": "python",
   "nbconvert_exporter": "python",
   "pygments_lexer": "ipython3",
   "version": "3.10.4"
  }
 },
 "nbformat": 4,
 "nbformat_minor": 2
}
